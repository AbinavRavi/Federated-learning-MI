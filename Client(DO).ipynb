{
 "cells": [
  {
   "cell_type": "code",
   "execution_count": null,
   "id": "liberal-kazakhstan",
   "metadata": {},
   "outputs": [],
   "source": [
    "import syft as sy\n",
    "import torch\n",
    "from torch.utils.data import Dataset, DataLoader\n",
    "import torchvision\n",
    "import torchvision.datasets as datasets\n",
    "import torchvision.transforms as transforms\n",
    "import torch"
   ]
  },
  {
   "cell_type": "code",
   "execution_count": null,
   "id": "sustainable-universal",
   "metadata": {},
   "outputs": [],
   "source": [
    "duet = sy.launch_duet(loopback=True)"
   ]
  },
  {
   "cell_type": "markdown",
   "id": "focused-blake",
   "metadata": {},
   "source": [
    "## Checkpoint 1\n",
    "\n",
    "### DataLoader\n",
    "\n",
    "Create Dataset object and save as .pt file. We are considering the [Medical MNIST dataset](https://www.kaggle.com/andrewmvd/medical-mnist)\n",
    "Dataloading code from [kaggle](https://www.kaggle.com/adi282123/medical-mnist-classification)"
   ]
  },
  {
   "cell_type": "code",
   "execution_count": null,
   "id": "foster-queensland",
   "metadata": {},
   "outputs": [],
   "source": [
    "transform = transforms.Compose([\n",
    "    transforms.ToTensor(),\n",
    "    transforms.Normalize((0.3), (0.3))\n",
    "])"
   ]
  },
  {
   "cell_type": "code",
   "execution_count": null,
   "id": "handy-enclosure",
   "metadata": {},
   "outputs": [],
   "source": [
    "dataset = datasets.ImageFolder(\"./data/\")\n",
    "train_set, val_set = torch.utils.data.random_split(dataset, [50000, 8954])\n",
    "\n",
    "# train_dataloader = torch.utils.data.DataLoader(train_set, batch_size=1)\n",
    "# val_dataloader = torch.utils.data.DataLoader(val_set, batch_size=1)"
   ]
  },
  {
   "cell_type": "code",
   "execution_count": null,
   "id": "resistant-berlin",
   "metadata": {},
   "outputs": [],
   "source": [
    "ds = train_set\n",
    "torch.save(ds, \"medical_MNIST.pt\")"
   ]
  },
  {
   "cell_type": "markdown",
   "id": "cheap-brunswick",
   "metadata": {},
   "source": [
    "The dataset is saved in .pt file and the path is sent to the server (Data scientist) with a tag to identify the path"
   ]
  },
  {
   "cell_type": "code",
   "execution_count": null,
   "id": "figured-sewing",
   "metadata": {},
   "outputs": [],
   "source": [
    "sy.lib.python.String(\"medical_MNIST.pt\").send(duet, pointable=True, tags=[\"meta\"])"
   ]
  },
  {
   "cell_type": "markdown",
   "id": "voluntary-request",
   "metadata": {},
   "source": [
    "Add requests that is preapproved. If we need some more requests a discussion is to ensure and that also has to be accepted. "
   ]
  },
  {
   "cell_type": "code",
   "execution_count": null,
   "id": "headed-security",
   "metadata": {},
   "outputs": [],
   "source": [
    "duet.requests.add_handler(\n",
    "    action=\"accept\"\n",
    ")"
   ]
  },
  {
   "cell_type": "markdown",
   "id": "coordinated-wayne",
   "metadata": {},
   "source": [
    "# Checkpoint 2\n",
    "\n",
    "## Run Server till the End "
   ]
  },
  {
   "cell_type": "code",
   "execution_count": null,
   "id": "public-walnut",
   "metadata": {},
   "outputs": [],
   "source": [
    "duet.store.pandas"
   ]
  },
  {
   "cell_type": "code",
   "execution_count": null,
   "id": "polyphonic-process",
   "metadata": {},
   "outputs": [],
   "source": [
    "duet.requests.add_handler(\n",
    "    action=\"accept\",\n",
    "    tags=[\n",
    "        'meta',\n",
    "        'RemoteDataset',\n",
    "        'RemoteDataLoader',\n",
    "        '__len__',\n",
    "        '__iter__',\n",
    "        '__next__',\n",
    "        '__getitem__',\n",
    "        '__call__',\n",
    "        'view',\n",
    "        '__sub__',\n",
    "        '__pow__',\n",
    "        'mean'])"
   ]
  }
 ],
 "metadata": {
  "kernelspec": {
   "display_name": "Python 3",
   "language": "python",
   "name": "python3"
  },
  "language_info": {
   "codemirror_mode": {
    "name": "ipython",
    "version": 3
   },
   "file_extension": ".py",
   "mimetype": "text/x-python",
   "name": "python",
   "nbconvert_exporter": "python",
   "pygments_lexer": "ipython3",
   "version": "3.9.2"
  }
 },
 "nbformat": 4,
 "nbformat_minor": 5
}
